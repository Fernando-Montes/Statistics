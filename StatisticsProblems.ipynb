{
 "cells": [
  {
   "cell_type": "code",
   "execution_count": 23,
   "metadata": {},
   "outputs": [
    {
     "data": {
      "image/png": "[encoded data removed]",
      "text/plain": [
       "<Figure size 432x288 with 1 Axes>"
      ]
     },
     "metadata": {
      "needs_background": "light"
     },
     "output_type": "display_data"
    }
   ],
   "source": [
    "# On a unit circle, random points are selected. \n",
    "# What is the PDF and CDF of the x-values of these random points?\n",
    "\n",
    "import numpy as np\n",
    "import math\n",
    "import matplotlib.pyplot as plt\n",
    "\n",
    "th = np.random.uniform(0,math.pi,100000)\n",
    "x = [math.cos(num) for num in th]\n",
    "\n",
    "xx = np.arange(-0.999,0.9999,0.001)\n",
    "fx = [1/(math.pi*math.sqrt(1-x*x)) for x in xx]\n",
    "\n",
    "plt.plot(xx, fx, linewidth=1, linestyle='--', color='b')\n",
    "plt.hist(x, bins=np.arange(-1, 1,0.01), facecolor='blue', alpha=0.5, density=True)\n",
    "plt.xlabel('x')\n",
    "plt.ylabel('PDF')\n",
    "#plt.savefig('quora.png')\n",
    "plt.show()"
   ]
  },
  {
   "cell_type": "code",
   "execution_count": 78,
   "metadata": {},
   "outputs": [
    {
     "name": "stdout",
     "output_type": "stream",
     "text": [
      "Analytical answer = 0.545\n",
      "MC answer = 0.543\n"
     ]
    }
   ],
   "source": [
    "# Professor gives her a list of 20 questions, from which she'll randomly select 8 of those \n",
    "# exact same questions to be on the test. If she knows how to answer 14/20 questions, \n",
    "# what's the probability that she'll be able to answer at least 6 questions?\n",
    "import random\n",
    "\n",
    "# Analytical:\n",
    "# probability 8 answers correct:\n",
    "p8 = 14/20*13/19*12/18*11/17*10/16*9/15*8/14*7/13\n",
    "# probability 7 answers correct:\n",
    "p7 = 6/20*14/19*13/18*12/17*11/16*10/15*9/14*8/13*8\n",
    "# probability 6 answers correct:\n",
    "p6 = 6/20*5/19*14/18*13/17*12/16*11/15*10/14*9/13*(7+6+5+4+3+2+1)\n",
    "ans = p8 + p7 + p6\n",
    "print(\"Analytical answer = {0:.3f}\".format(ans))\n",
    "\n",
    "# Monte-carlo:\n",
    "n = 100000 # number of simulations\n",
    "questions = [1, 1, 1, 1, 1, 1, 1, 1, 1, 1, 1, 1, 1, 1, 0, 0, 0, 0 ,0 ,0] \n",
    "ans = 0\n",
    "for i in range(n):\n",
    "    if sum(random.sample(questions, 8)) >= 6:\n",
    "        ans = ans + 1\n",
    "ans = ans/n\n",
    "print(\"MC answer = {0:.3f}\".format(ans))\n"
   ]
  },
  {
   "cell_type": "code",
   "execution_count": 59,
   "metadata": {},
   "outputs": [
    {
     "name": "stdout",
     "output_type": "stream",
     "text": [
      "2\n",
      "2.0019275319808685\n"
     ]
    }
   ],
   "source": [
    "# How do you establish an expected number of die rolls to get six conditioned on the numbers not decreasing?\n",
    "import numpy as np\n",
    "import random\n",
    "\n",
    "# Analytical:\n",
    "res_analytical = 2\n",
    "print(res_analytical)\n",
    "\n",
    "# MC:\n",
    "MC = 1000000\n",
    "dice = [1,2,3,4,5,6]\n",
    "res = []\n",
    "n = 0\n",
    "roll_previous = 0\n",
    "for i in range(MC):\n",
    "    roll = random.sample(dice, 1)[0]\n",
    "    if roll == 6:                # Found 6!\n",
    "        res.append(n+1)\n",
    "        n = 0\n",
    "        roll_previous = 0\n",
    "    else:\n",
    "        if roll < roll_previous:  # restart count\n",
    "            n = 0\n",
    "            roll_previous = 0\n",
    "        else:                     # add to counter\n",
    "            roll_previous = roll\n",
    "            n = n + 1\n",
    "    #print(roll)\n",
    "#print(res)\n",
    "res_MC = sum(res)/len(res)\n",
    "print(res_MC)"
   ]
  },
  {
   "cell_type": "code",
   "execution_count": 53,
   "metadata": {},
   "outputs": [
    {
     "name": "stdout",
     "output_type": "stream",
     "text": [
      "n51 formula = 0.3413  loop = 0.3413\n",
      "n41 formula = 0.3505  loop = 0.3505\n",
      "n31 formula = 0.3633  loop = 0.3633\n",
      "n21 formula = 0.3805  loop = 0.3805\n",
      "n11 formula = 0.4034  loop = 0.4034\n"
     ]
    }
   ],
   "source": [
    "# How do you establish an expected number of die rolls to get six conditioned on the numbers not decreasing?\n",
    "# Continuation\n",
    "def n5j(j):\n",
    "    res = 0\n",
    "    for i in range(0,20):\n",
    "        res = res + (i+1+j)*(1/6)**(i+1) + (1/6)**i*(4/6)*res_MC\n",
    "    return res\n",
    "print( \"n51 formula = {0:.4f}  loop = {1:0.4f}\".format(1/30+1/25+2/15*res_MC, n5j(1)*1/6) )\n",
    "  \n",
    "def n4j(j):    \n",
    "    res = 0\n",
    "    for i in range(0,20):\n",
    "        res = res + (i+1+j)*(1/6)**(i+1) + (1/6)**(i+1)*n5j(j+i+1) + (1/6)**i*(3/6)*res_MC\n",
    "    return res\n",
    "print( \"n41 formula = {0:.4f}  loop = {1:0.4f}\".format(1/25+7/125+19/150*res_MC, n4j(1)*1/6) )\n",
    "\n",
    "def n3j(j):    \n",
    "    res = 0\n",
    "    for i in range(0,20):\n",
    "        res = res + (i+1+j)*(1/6)**(i+1) + (1/6)**(i+1)*n5j(j+i+1) + (1/6)**(i+1)*n4j(j+i+1) + (1/6)**i*(2/6)*res_MC\n",
    "    return res\n",
    "print( \"n31 formula = {0:.4f}  loop = {1:0.4f}\".format(6*1/125+48/625+89/750*res_MC, n3j(1)*1/6) )\n",
    "\n",
    "def n2j(j):    \n",
    "    res = 0\n",
    "    for i in range(0,20):\n",
    "        res = res + (i+1+j)*(1/6)**(i+1) + (1/6)**(i+1)*n5j(j+i+1) + (1/6)**(i+1)*n4j(j+i+1) + (1/6)**(i+1)*n3j(j+i+1) + (1/6)**i*(1/6)*res_MC\n",
    "    return res\n",
    "print( \"n21 formula = {0:.4f}  loop = {1:0.4f}\".format(1*36/625+324/3125+409/3750*res_MC, n2j(1)*1/6) )\n",
    "\n",
    "def n1j(j):    \n",
    "    res = 0\n",
    "    for i in range(0,20):\n",
    "        res = res + (i+1+j)*(1/6)**(i+1) + (1/6)**(i+1)*n5j(j+i+1) + (1/6)**(i+1)*n4j(j+i+1) + (1/6)**(i+1)*n3j(j+i+1) + (1/6)**(i+1)*n2j(j+i+1)\n",
    "    return res\n",
    "print( \"n11 formula = {0:.4f}  loop = {1:0.4f}\".format(1*216/3125+432/3125+1829/18750*res_MC, n1j(1)*1/6) )"
   ]
  },
  {
   "cell_type": "code",
   "execution_count": null,
   "metadata": {},
   "outputs": [],
   "source": []
  }
 ],
 "metadata": {
  "kernelspec": {
   "display_name": "Python 3",
   "language": "python",
   "name": "python3"
  },
  "language_info": {
   "codemirror_mode": {
    "name": "ipython",
    "version": 3
   },
   "file_extension": ".py",
   "mimetype": "text/x-python",
   "name": "python",
   "nbconvert_exporter": "python",
   "pygments_lexer": "ipython3",
   "version": "3.7.1"
  }
 },
 "nbformat": 4,
 "nbformat_minor": 2
}
